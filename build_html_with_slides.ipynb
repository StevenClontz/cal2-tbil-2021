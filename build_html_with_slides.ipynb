{
 "cells": [
  {
   "cell_type": "code",
   "execution_count": 41,
   "metadata": {
    "collapsed": false
   },
   "outputs": [
   ],
   "source": [
    "import pretext\n",
    "from lxml import etree as ET\n",
    "from pathlib import Path\n",
    "\n",
    "XSLNS=\"{http://www.w3.org/1999/XSL/Transform}\"\n",
    "\n",
    "slide_to_html_xsl = Path(pretext.static.__file__).parent / \"xsl\" / \"pretext-revealjs.xsl\"\n",
    "slide_to_html_transform_xml = ET.parse(str(slide_to_html_xsl))\n",
    "slide_to_html_transform = ET.XSLT(ET.parse(str(slide_to_html_xsl)))\n",
    "\n",
    "common_xsl = Path(pretext.static.__file__).parent / \"xsl\" / \"pretext-common.xsl\"\n",
    "book_to_slide_xsl = Path(\"slides\") / \"extract-slides.xsl\"\n",
    "book_to_slide_transform_xml = ET.parse(str(book_to_slide_xsl))\n",
    "root = book_to_slide_transform_xml.getroot()\n",
    "include = ET.Element(f\"{XSLNS}include\")\n",
    "include.set(\"href\",str(common_xsl))\n",
    "root.insert(0,include)\n",
    "book_to_slide_transform_xml.write(\"slides/foo.xsl\")\n",
    "\n",
    "book_source = Path(\"source\") / \"main.ptx\"\n",
    "book_xml = ET.parse(str(book_source))\n",
    "book_xml.xinclude()\n",
    "slide_xml = book_to_slide_transform(book_xml,**{'debug.project.number': 'true'})\n",
    "slide_xml.write(\"slides/slides.ptx\")\n",
    "slide_html = slide_to_html_transform(slide_xml)\n",
    "slide_html.write(\"output/html/slides.html\")"
   ]
  }
 ],
 "metadata": {
  "kernelspec": {
   "display_name": "Python 3 (system-wide)",
   "language": "python",
   "metadata": {
    "cocalc": {
     "description": "Python 3 programming language",
     "priority": 100,
     "url": "https://www.python.org/"
    }
   },
   "name": "python3",
   "resource_dir": "/ext/jupyter/kernels/python3"
  },
  "language_info": {
   "codemirror_mode": {
    "name": "ipython",
    "version": 3
   },
   "file_extension": ".py",
   "mimetype": "text/x-python",
   "name": "python",
   "nbconvert_exporter": "python",
   "pygments_lexer": "ipython3",
   "version": "3.8.10"
  }
 },
 "nbformat": 4,
 "nbformat_minor": 4
}